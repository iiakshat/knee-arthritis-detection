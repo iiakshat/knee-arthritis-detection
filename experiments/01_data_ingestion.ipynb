{
 "cells": [
  {
   "cell_type": "code",
   "execution_count": 1,
   "metadata": {},
   "outputs": [],
   "source": [
    "import os\n",
    "import zipfile\n",
    "import gdown\n",
    "from pathlib import Path\n",
    "from dataclasses import dataclass\n",
    "from cnnClassifier import logger\n",
    "from cnnClassifier.constants import *\n",
    "from cnnClassifier.utils.helper import read_yaml, create_directories, get_size"
   ]
  },
  {
   "cell_type": "code",
   "execution_count": 2,
   "metadata": {},
   "outputs": [],
   "source": [
    "@dataclass(frozen=True)\n",
    "class DataIngestionConfig:\n",
    "    root_dir: Path\n",
    "    source_URL: str\n",
    "    local_data_file: Path\n",
    "    unzip_dir: Path"
   ]
  },
  {
   "cell_type": "code",
   "execution_count": 3,
   "metadata": {},
   "outputs": [],
   "source": [
    "class ConfigurationManager:\n",
    "    def __init__(\n",
    "        self,\n",
    "        # config_filepath = CONFIG_FILE_PATH,       \n",
    "        # params_filepath = PARAMS_FILE_PATH\n",
    "\n",
    "        config_filepath = '../config/config.yaml',\n",
    "        params_filepath = '../params.yaml'\n",
    "\n",
    "    ):\n",
    "        self.config = read_yaml(config_filepath)\n",
    "        self.params = read_yaml(params_filepath)\n",
    "        create_directories([self.config.artifacts_root])\n",
    "\n",
    "\n",
    "    def get_data_ingestion_config(self) -> DataIngestionConfig:\n",
    "        config = self.config.data_ingestion\n",
    "        create_directories([config.root_dir])\n",
    "\n",
    "        data_ingestion_config = DataIngestionConfig(\n",
    "            root_dir=config.root_dir,\n",
    "            source_URL=config.source_URL,\n",
    "            local_data_file=config.local_data_file,\n",
    "            unzip_dir=config.unzip_dir\n",
    "        )\n",
    "\n",
    "        return data_ingestion_config"
   ]
  },
  {
   "cell_type": "code",
   "execution_count": 4,
   "metadata": {},
   "outputs": [],
   "source": [
    "class DataIngestion:\n",
    "    def __init__(self, config: DataIngestionConfig):\n",
    "        self.config = config\n",
    "\n",
    "    def download_file(self):\n",
    "        try:\n",
    "            url = self.config.source_URL\n",
    "            dwn_dir = self.config.local_data_file\n",
    "            os.makedirs('artifacts/data_ingestion', exist_ok=True)\n",
    "            logger.info('Downloading file from %s to %s', url, dwn_dir)\n",
    "\n",
    "            file_id = url.split('/')[-2]\n",
    "            download_url = f\"https://drive.google.com/uc?/export=download&id={file_id}\"\n",
    "\n",
    "            gdown.download(download_url, dwn_dir )\n",
    "\n",
    "            logger.info('Download completed')\n",
    "        \n",
    "        except Exception as e:\n",
    "            raise e\n",
    "    \n",
    "    def extractor(self):\n",
    "        unzip_path = self.config.unzip_dir\n",
    "        os.makedirs(unzip_path, exist_ok=True)\n",
    "        with zipfile.ZipFile(self.config.local_data_file, 'r') as f:\n",
    "            f.extractall(unzip_path)"
   ]
  },
  {
   "cell_type": "code",
   "execution_count": 5,
   "metadata": {},
   "outputs": [
    {
     "name": "stdout",
     "output_type": "stream",
     "text": [
      "[2024-06-12 01:41:25,035: INFO: helper: yaml file: ../config/config.yaml loaded successfully]\n",
      "[2024-06-12 01:41:25,035: INFO: helper: yaml file: ../params.yaml loaded successfully]\n",
      "[2024-06-12 01:41:25,043: INFO: helper: Created directory at: artifacts]\n",
      "[2024-06-12 01:41:25,048: INFO: helper: Created directory at: artifacts/data_ingestion]\n",
      "[2024-06-12 01:41:25,049: INFO: 391097943: Downloading file from https://drive.google.com/file/d/1xb_Q9FiQ9X33h99R7LTkdDeSXG_E9hty/view?usp=drive_link to artifacts/data_ingestion/data.zip]\n"
     ]
    },
    {
     "name": "stderr",
     "output_type": "stream",
     "text": [
      "Downloading...\n",
      "From (original): https://drive.google.com/uc?/export=download&id=1xb_Q9FiQ9X33h99R7LTkdDeSXG_E9hty\n",
      "From (redirected): https://drive.google.com/uc?%2Fexport=download&id=1xb_Q9FiQ9X33h99R7LTkdDeSXG_E9hty&confirm=t&uuid=b7185638-873e-411b-8660-1d257b1875b4\n",
      "To: c:\\Users\\jaksh\\Desktop\\Programs\\Projects\\knee-arthritis-detection\\experiments\\artifacts\\data_ingestion\\data.zip\n",
      "100%|██████████| 61.1M/61.1M [00:08<00:00, 6.80MB/s]\n"
     ]
    },
    {
     "name": "stdout",
     "output_type": "stream",
     "text": [
      "[2024-06-12 01:41:35,487: INFO: 391097943: Download completed]\n"
     ]
    }
   ],
   "source": [
    "try:\n",
    "    config = ConfigurationManager()\n",
    "    data_ingestion_config = config.get_data_ingestion_config()\n",
    "    data_ingestion = DataIngestion(config=data_ingestion_config)\n",
    "    data_ingestion.download_file()\n",
    "    data_ingestion.extractor()\n",
    "\n",
    "except Exception as e:\n",
    "    raise e"
   ]
  },
  {
   "cell_type": "code",
   "execution_count": null,
   "metadata": {},
   "outputs": [],
   "source": []
  }
 ],
 "metadata": {
  "kernelspec": {
   "display_name": "venv",
   "language": "python",
   "name": "python3"
  },
  "language_info": {
   "codemirror_mode": {
    "name": "ipython",
    "version": 3
   },
   "file_extension": ".py",
   "mimetype": "text/x-python",
   "name": "python",
   "nbconvert_exporter": "python",
   "pygments_lexer": "ipython3",
   "version": "3.12.3"
  }
 },
 "nbformat": 4,
 "nbformat_minor": 2
}
